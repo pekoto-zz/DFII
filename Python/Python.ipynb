{
 "cells": [
  {
   "cell_type": "markdown",
   "metadata": {},
   "source": [
    "# Python Reminders"
   ]
  },
  {
   "cell_type": "markdown",
   "metadata": {},
   "source": [
    "## Classes\n",
    "Classes start with a capital letter. They have attributes and methods. They also have class object attributes (like static members)."
   ]
  },
  {
   "cell_type": "code",
   "execution_count": 1,
   "metadata": {},
   "outputs": [
    {
     "name": "stdout",
     "output_type": "stream",
     "text": [
      "Private methods start with double__.\n",
      "Breed: Lab\n",
      "Species: Mammal\n"
     ]
    }
   ],
   "source": [
    "class Dog():\n",
    "    \n",
    "    # Class object attribute (static member)\n",
    "    species = 'Mammal'\n",
    "    \n",
    "    def __init__(self, breed: str) -> None:\n",
    "        self.breed = breed  # Attribute\n",
    "        self.__private_method()\n",
    "        \n",
    "    def set_breed(self, breed: str) -> None:  # Method\n",
    "        self.breed = breed\n",
    "        \n",
    "    def get_breed(self) -> str:\n",
    "        return self.breed\n",
    "    \n",
    "    def __private_method(self) -> None:\n",
    "        print('Private methods start with double__.')\n",
    "        \n",
    "        \n",
    "sam = Dog(breed=\"Lab\")\n",
    "\n",
    "print(f'Breed: {sam.breed}')\n",
    "print(f'Species: {Dog.species}')\n"
   ]
  },
  {
   "cell_type": "markdown",
   "metadata": {},
   "source": [
    "### Inheritance\n",
    "Add the class you want to inherit from in the parentheses."
   ]
  },
  {
   "cell_type": "code",
   "execution_count": 2,
   "metadata": {},
   "outputs": [
    {
     "name": "stdout",
     "output_type": "stream",
     "text": [
      "Dog born\n",
      "Woof!\n",
      "Animal eating\n",
      "Dog\n"
     ]
    }
   ],
   "source": [
    "class Animal():\n",
    "    def __init__(self) -> None:\n",
    "        print('Animal born')\n",
    "        \n",
    "    def who_am_I(self) -> None:\n",
    "        print('Animal')\n",
    "    \n",
    "    def eat(self) -> None:\n",
    "        print('Animal eating')\n",
    "        \n",
    "class Dog(Animal):\n",
    "    def __init__(self) -> None:\n",
    "        print('Dog born')\n",
    "        \n",
    "    def who_am_I(self) -> None:\n",
    "        print('Dog')\n",
    "        \n",
    "    def bark(self) -> None:\n",
    "        print('Woof!')\n",
    "        \n",
    "sam = Dog()\n",
    "sam.bark()\n",
    "sam.eat()\n",
    "sam.who_am_I()"
   ]
  },
  {
   "cell_type": "markdown",
   "metadata": {},
   "source": [
    "## Exceptions\n",
    "Exceptions are handled using `try...except...else...finally`.\n",
    "(Although we can skip the else if we don't want to use finally -- though there are some other reasons to use it.)"
   ]
  },
  {
   "cell_type": "code",
   "execution_count": 3,
   "metadata": {},
   "outputs": [
    {
     "name": "stdout",
     "output_type": "stream",
     "text": [
      "Error: Failed to write to file {}\n",
      "Finished excuting.\n"
     ]
    }
   ],
   "source": [
    "try:\n",
    "    my_file = open('Somefile.txt', 'r') # r will only give read-only permissions\n",
    "    my_file.write('New text')\n",
    "except IOError:\n",
    "    print('Error: Failed to write to file {}')\n",
    "else:\n",
    "    print('Opened and wrote to file')\n",
    "    my_file.close()\n",
    "finally:\n",
    "    print('Finished excuting.')"
   ]
  },
  {
   "cell_type": "markdown",
   "metadata": {},
   "source": [
    "## Modules vs. Packages\n",
    "\n",
    "Modules are essentially code packages that you can import. Note that a module may be just one file, but it may contain multple classes, functions, etc. And you can choose to import just one function, for example.\n",
    "\n",
    "Simple write your code in a file and save it as `filename.py`.\n",
    "\n",
    "Then, when you want to use it, use `import filename` (without the py).\n",
    "\n",
    "Packages are namespaces that contain multiple modules or other packages.\n",
    "\n",
    "Technically, they are directories with a file called __init.py__. This file can be empty, but it must exist in the folder.\n",
    "\n",
    "You can import packages, or modules from packages, like this:\n",
    "\n",
    "```python\n",
    "import package\n",
    "\n",
    "import package.module\n",
    "\n",
    "from package import module\n",
    "```"
   ]
  },
  {
   "cell_type": "code",
   "execution_count": 4,
   "metadata": {},
   "outputs": [
    {
     "data": {
      "text/plain": [
       "2.0"
      ]
     },
     "execution_count": 4,
     "metadata": {},
     "output_type": "execute_result"
    }
   ],
   "source": [
    "# Import just a function (best practice to stop the whole file being loaded)\n",
    "from math import sqrt\n",
    "\n",
    "sqrt(4)"
   ]
  },
  {
   "cell_type": "markdown",
   "metadata": {},
   "source": [
    "## Division/Exponents\n",
    "Division always returns a float.\n",
    "\n",
    "Exponents can be calculated by using `**`."
   ]
  },
  {
   "cell_type": "code",
   "execution_count": 7,
   "metadata": {},
   "outputs": [
    {
     "name": "stdout",
     "output_type": "stream",
     "text": [
      "1.5\n"
     ]
    }
   ],
   "source": [
    "print(3/2)"
   ]
  },
  {
   "cell_type": "code",
   "execution_count": 8,
   "metadata": {},
   "outputs": [
    {
     "name": "stdout",
     "output_type": "stream",
     "text": [
      "1\n"
     ]
    }
   ],
   "source": [
    "print(int(3/2))"
   ]
  },
  {
   "cell_type": "code",
   "execution_count": 16,
   "metadata": {},
   "outputs": [
    {
     "name": "stdout",
     "output_type": "stream",
     "text": [
      "2\n"
     ]
    }
   ],
   "source": [
    "print(20%3)"
   ]
  },
  {
   "cell_type": "code",
   "execution_count": 10,
   "metadata": {},
   "outputs": [
    {
     "name": "stdout",
     "output_type": "stream",
     "text": [
      "8\n"
     ]
    }
   ],
   "source": [
    "print(2**3)"
   ]
  },
  {
   "cell_type": "markdown",
   "metadata": {},
   "source": [
    "## Checking for empty/not assigned\n",
    "You can use `if...` to check for existance of an empty string, unassigned var, or empty data structure.\n",
    "\n",
    "Note that an empty data structure is not None. None is null."
   ]
  },
  {
   "cell_type": "code",
   "execution_count": 24,
   "metadata": {},
   "outputs": [
    {
     "name": "stdout",
     "output_type": "stream",
     "text": [
      "l is None\n",
      "d is None\n",
      "str1 is None\n",
      "str2 is None\n",
      "str2 exists\n",
      "str2 is None\n",
      "False\n"
     ]
    }
   ],
   "source": [
    "l = []\n",
    "d = {}\n",
    "str1 = None\n",
    "str2 = ''\n",
    "\n",
    "if l:\n",
    "    print('l exists')\n",
    "else:\n",
    "    print('l is None')\n",
    "    \n",
    "if d:\n",
    "    print('d exists')\n",
    "else:\n",
    "    print('d is None')\n",
    "    \n",
    "if str1:\n",
    "    print('str1 exists')\n",
    "else:\n",
    "    print('str1 is None')\n",
    "    \n",
    "if str2:\n",
    "    print('str2 exists')\n",
    "else:\n",
    "    print('str2 is None')\n",
    "    \n",
    "print(l == None)"
   ]
  },
  {
   "cell_type": "markdown",
   "metadata": {},
   "source": [
    "## is vs. ==\n",
    "\n",
    "`==` is used to check value equality of 2 objects, `is` is used to check if they refer to the same object in memory."
   ]
  },
  {
   "cell_type": "code",
   "execution_count": 27,
   "metadata": {},
   "outputs": [
    {
     "name": "stdout",
     "output_type": "stream",
     "text": [
      "d1 == d2\n",
      "d1 is not d2\n"
     ]
    }
   ],
   "source": [
    "d1 = ['a']\n",
    "d2 = ['a']\n",
    "\n",
    "if d1 == d2:\n",
    "    print('d1 == d2')\n",
    "else:\n",
    "    print('d1 != d2')\n",
    "    \n",
    "if d1 is d2:\n",
    "    print('d1 is d2')\n",
    "else:\n",
    "    print('d1 is not d2')"
   ]
  },
  {
   "cell_type": "markdown",
   "metadata": {},
   "source": [
    "## Conditionals\n",
    "\n",
    "Use `if...elif...else`."
   ]
  },
  {
   "cell_type": "code",
   "execution_count": 30,
   "metadata": {},
   "outputs": [
    {
     "name": "stdout",
     "output_type": "stream",
     "text": [
      "x is 2\n"
     ]
    }
   ],
   "source": [
    "x = 2\n",
    "\n",
    "if x == 1:\n",
    "    print('x is 1')\n",
    "elif x == 2:\n",
    "    print('x is 2')\n",
    "else:\n",
    "    print('x is bigger than 2')"
   ]
  },
  {
   "cell_type": "code",
   "execution_count": 31,
   "metadata": {},
   "outputs": [
    {
     "data": {
      "text/plain": [
       "1.5"
      ]
     },
     "execution_count": 31,
     "metadata": {},
     "output_type": "execute_result"
    }
   ],
   "source": [
    "3/2"
   ]
  },
  {
   "cell_type": "markdown",
   "metadata": {},
   "source": [
    "## List/Set/Dictionary/Tuple\n",
    "```python\n",
    "list = []\n",
    "set = set()\n",
    "tuple = (val1, val2)\n",
    "dictionary = {}\n",
    "od = OrderedDict()\n",
    "```"
   ]
  },
  {
   "cell_type": "code",
   "execution_count": 39,
   "metadata": {},
   "outputs": [
    {
     "name": "stdout",
     "output_type": "stream",
     "text": [
      "l is a <class 'list'>\n",
      "s is a <class 'set'>\n",
      "t is a <class 'tuple'>\n",
      "d is a <class 'dict'>\n",
      "od is a <class 'collections.OrderedDict'>\n"
     ]
    }
   ],
   "source": [
    "from collections import OrderedDict\n",
    "\n",
    "l = []\n",
    "s = set()\n",
    "t = ('a','b')\n",
    "d = {}\n",
    "od = OrderedDict()\n",
    "\n",
    "print(f'l is a {type(l)}')\n",
    "print(f's is a {type(s)}')\n",
    "print(f't is a {type(t)}')\n",
    "print(f'd is a {type(d)}')\n",
    "print(f'od is a {type(od)}')"
   ]
  },
  {
   "cell_type": "markdown",
   "metadata": {},
   "source": [
    "## Custom Comparators\n",
    "\n",
    "The quick way of sorting is to pass in `key= obj: obj.property` to the lambda function when sorting."
   ]
  },
  {
   "cell_type": "code",
   "execution_count": 40,
   "metadata": {},
   "outputs": [
    {
     "data": {
      "text/plain": [
       "[('jane', 'B', 10), ('dave', 'B', 12), ('john', 'A', 15)]"
      ]
     },
     "execution_count": 40,
     "metadata": {},
     "output_type": "execute_result"
    }
   ],
   "source": [
    "class Student:\n",
    "    def __init__(self, name, grade, age):\n",
    "        self.name = name\n",
    "        self.grade = grade\n",
    "        self.age = age\n",
    "\n",
    "    def __repr__(self):\n",
    "        return repr((self.name, self.grade, self.age))\n",
    "\n",
    "student_objects = [\n",
    "    Student('john', 'A', 15),\n",
    "    Student('jane', 'B', 10),\n",
    "    Student('dave', 'B', 12),\n",
    "]\n",
    "\n",
    "# Pass in object parameter to sort by\n",
    "sorted(student_objects, key=lambda student: student.age) "
   ]
  },
  {
   "cell_type": "markdown",
   "metadata": {},
   "source": [
    "Though, less common, we can also override the `__lt__` function in the class itself."
   ]
  },
  {
   "cell_type": "code",
   "execution_count": 41,
   "metadata": {},
   "outputs": [
    {
     "data": {
      "text/plain": [
       "[('jane', 'B', 10), ('dave', 'B', 12), ('john', 'A', 15)]"
      ]
     },
     "execution_count": 41,
     "metadata": {},
     "output_type": "execute_result"
    }
   ],
   "source": [
    "class Student:\n",
    "    def __init__(self, name, grade, age):\n",
    "        self.name = name\n",
    "        self.grade = grade\n",
    "        self.age = age\n",
    "\n",
    "    def __repr__(self):\n",
    "        return repr((self.name, self.grade, self.age))\n",
    "    \n",
    "    def __lt__(self, other):\n",
    "        # Could add other more complex if...elif...else logic here\n",
    "        return self.age < other.age\n",
    "\n",
    "student_objects = [\n",
    "    Student('john', 'A', 15),\n",
    "    Student('jane', 'B', 10),\n",
    "    Student('dave', 'B', 12),\n",
    "]\n",
    "\n",
    "sorted(student_objects) "
   ]
  },
  {
   "cell_type": "markdown",
   "metadata": {},
   "source": [
    "When checking for existance in a set, equivalence, etc., you can override `__eq__` and `__hash__`."
   ]
  },
  {
   "cell_type": "code",
   "execution_count": 48,
   "metadata": {},
   "outputs": [
    {
     "name": "stdout",
     "output_type": "stream",
     "text": [
      "list is: [('john', 'A1', 15), ('jane', 'B1', 12), ('jane', 'B1', 12)]\n",
      "set is: {('jane', 'B1', 12), ('john', 'A1', 15)}\n",
      "Student 1 and student 2 are equal.\n"
     ]
    }
   ],
   "source": [
    "class Student:\n",
    "    def __init__(self, name, id_num, age):\n",
    "        self.name = name\n",
    "        self.id_num = id_num\n",
    "        self.age = age\n",
    "\n",
    "    def __repr__(self):\n",
    "        return repr((self.name, self.id_num, self.age))\n",
    "    \n",
    "    def __eq__(self, other):\n",
    "        return self.id_num == other.id_num\n",
    "    \n",
    "    def __hash__(self):\n",
    "        return hash(self.id_num)\n",
    "\n",
    "student_objects = [\n",
    "    Student('john', 'A1', 15),\n",
    "    Student('jane', 'B1', 12),\n",
    "    Student('jane', 'B1', 12),\n",
    "]\n",
    "\n",
    "print(f'List is: {student_objects}')\n",
    "\n",
    "student_set = set(student_objects)\n",
    "\n",
    "print(f'Set is: {student_set}')\n",
    "\n",
    "if student_objects[1] == student_objects[2]:\n",
    "    print('Student 1 and student 2 are equal.')"
   ]
  },
  {
   "cell_type": "markdown",
   "metadata": {},
   "source": [
    "# Iteration\n",
    "\n",
    "Just use:\n",
    "\n",
    "`for item in items: ...`.\n",
    "\n",
    "If you want to get an index, you can use:\n",
    "\n",
    "`for i, item in enumerate(items): ...`.\n",
    "\n",
    "For iterating around a dictionary, you can use:\n",
    "\n",
    "`for key, val in d.items(): ...`.\n",
    "\n",
    "(If you forget items() it will give you the keys be default.)"
   ]
  },
  {
   "cell_type": "code",
   "execution_count": 55,
   "metadata": {},
   "outputs": [
    {
     "name": "stdout",
     "output_type": "stream",
     "text": [
      "0: a\n",
      "1: b\n",
      "2: c\n",
      "a: 1\n",
      "b: 2\n",
      "c: 3\n"
     ]
    }
   ],
   "source": [
    "letters = ['a', 'b', 'c']\n",
    "\n",
    "for i, letter in enumerate(letters):\n",
    "    print(f'{i}: {letter}')\n",
    "    \n",
    "d = {'a': 1, 'b': 2, 'c': 3}\n",
    "\n",
    "for key, val in d.items():\n",
    "    print(f'{key}: {val}')    "
   ]
  },
  {
   "cell_type": "code",
   "execution_count": null,
   "metadata": {},
   "outputs": [],
   "source": []
  }
 ],
 "metadata": {
  "kernelspec": {
   "display_name": "Python 3",
   "language": "python",
   "name": "python3"
  },
  "language_info": {
   "codemirror_mode": {
    "name": "ipython",
    "version": 3
   },
   "file_extension": ".py",
   "mimetype": "text/x-python",
   "name": "python",
   "nbconvert_exporter": "python",
   "pygments_lexer": "ipython3",
   "version": "3.8.5"
  }
 },
 "nbformat": 4,
 "nbformat_minor": 4
}
