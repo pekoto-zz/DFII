{
 "cells": [
  {
   "cell_type": "markdown",
   "metadata": {},
   "source": [
    "# Python Reminders"
   ]
  },
  {
   "cell_type": "markdown",
   "metadata": {},
   "source": [
    "## Classes\n",
    "Classes start with a capital letter. They have attributes and methods. They also have class object attributes (like static members)."
   ]
  },
  {
   "cell_type": "code",
   "execution_count": 5,
   "metadata": {},
   "outputs": [
    {
     "name": "stdout",
     "output_type": "stream",
     "text": [
      "Private methods start with double__.\n",
      "Breed: Lab\n",
      "Species: Mammal\n"
     ]
    }
   ],
   "source": [
    "class Dog():\n",
    "    \n",
    "    # Class object attribute (static member)\n",
    "    species = 'Mammal'\n",
    "    \n",
    "    def __init__(self, breed: str) -> None:\n",
    "        self.breed = breed  # Attribute\n",
    "        self.__private_method()\n",
    "        \n",
    "    def set_breed(self, breed: str) -> None:  # Method\n",
    "        self.breed = breed\n",
    "        \n",
    "    def get_breed(self) -> str:\n",
    "        return self.breed\n",
    "    \n",
    "    def __private_method(self) -> None:\n",
    "        print('Private methods start with double__.')\n",
    "        \n",
    "        \n",
    "sam = Dog(breed=\"Lab\")\n",
    "\n",
    "print(f'Breed: {sam.breed}')\n",
    "print(f'Species: {Dog.species}')\n"
   ]
  },
  {
   "cell_type": "markdown",
   "metadata": {},
   "source": [
    "### Inheritance\n",
    "Add the class you want to inherit from in the parentheses."
   ]
  },
  {
   "cell_type": "code",
   "execution_count": 7,
   "metadata": {},
   "outputs": [
    {
     "name": "stdout",
     "output_type": "stream",
     "text": [
      "Dog born\n",
      "Woof!\n",
      "Animal eating\n",
      "Dog\n"
     ]
    }
   ],
   "source": [
    "class Animal():\n",
    "    def __init__(self) -> None:\n",
    "        print('Animal born')\n",
    "        \n",
    "    def who_am_I(self) -> None:\n",
    "        print('Animal')\n",
    "    \n",
    "    def eat(self) -> None:\n",
    "        print('Animal eating')\n",
    "        \n",
    "class Dog(Animal):\n",
    "    def __init__(self) -> None:\n",
    "        print('Dog born')\n",
    "        \n",
    "    def who_am_I(self) -> None:\n",
    "        print('Dog')\n",
    "        \n",
    "    def bark(self) -> None:\n",
    "        print('Woof!')\n",
    "        \n",
    "sam = Dog()\n",
    "sam.bark()\n",
    "sam.eat()\n",
    "sam.who_am_I()"
   ]
  },
  {
   "cell_type": "markdown",
   "metadata": {},
   "source": [
    "## Exceptions\n",
    "Exceptions are handled using `try...except...else...finally`.\n",
    "(Although we can skip the else if we don't want to use finally -- though there are some other reasons to use it.)"
   ]
  },
  {
   "cell_type": "code",
   "execution_count": 12,
   "metadata": {},
   "outputs": [
    {
     "name": "stdout",
     "output_type": "stream",
     "text": [
      "Error: Failed to write to file {}\n",
      "Finished excuting.\n"
     ]
    }
   ],
   "source": [
    "try:\n",
    "    my_file = open('Somefile.txt', 'r') # r will only give read-only permissions\n",
    "    my_file.write('New text')\n",
    "except IOError:\n",
    "    print('Error: Failed to write to file {}')\n",
    "else:\n",
    "    print('Opened and wrote to file')\n",
    "    my_file.close()\n",
    "finally:\n",
    "    print('Finished excuting.')"
   ]
  },
  {
   "cell_type": "markdown",
   "metadata": {},
   "source": [
    "## Modules vs. Packages\n",
    "\n",
    "Modules are essentially code packages that you can import. Note that a module may be just one file, but it may contain multple classes, functions, etc. And you can choose to import just one function, for example.\n",
    "\n",
    "Simple write your code in a file and save it as `filename.py`.\n",
    "\n",
    "Then, when you want to use it, use `import filename` (without the py).\n",
    "\n",
    "Packages are namespaces that contain multiple modules or other packages.\n",
    "\n",
    "Technically, they are directories with a file called __init.py__. This file can be empty, but it must exist in the folder.\n",
    "\n",
    "You can import packages, or modules from packages, like this:\n",
    "\n",
    "```python\n",
    "import package\n",
    "\n",
    "import package.module\n",
    "\n",
    "from package import module\n",
    "```"
   ]
  },
  {
   "cell_type": "code",
   "execution_count": 14,
   "metadata": {},
   "outputs": [
    {
     "data": {
      "text/plain": [
       "2.0"
      ]
     },
     "execution_count": 14,
     "metadata": {},
     "output_type": "execute_result"
    }
   ],
   "source": [
    "# Import just a function (best practice to stop the whole file being loaded)\n",
    "from math import sqrt\n",
    "\n",
    "sqrt(4)"
   ]
  },
  {
   "cell_type": "code",
   "execution_count": null,
   "metadata": {},
   "outputs": [],
   "source": []
  }
 ],
 "metadata": {
  "kernelspec": {
   "display_name": "Python 3",
   "language": "python",
   "name": "python3"
  },
  "language_info": {
   "codemirror_mode": {
    "name": "ipython",
    "version": 3
   },
   "file_extension": ".py",
   "mimetype": "text/x-python",
   "name": "python",
   "nbconvert_exporter": "python",
   "pygments_lexer": "ipython3",
   "version": "3.8.5"
  }
 },
 "nbformat": 4,
 "nbformat_minor": 4
}
