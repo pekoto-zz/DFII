{
 "cells": [
  {
   "cell_type": "markdown",
   "metadata": {},
   "source": [
    "# Python Reminders"
   ]
  },
  {
   "cell_type": "markdown",
   "metadata": {},
   "source": [
    "## Classes\n",
    "Classes start with a capital letter. They have attributes and methods. They also have class object attributes (like static members)."
   ]
  },
  {
   "cell_type": "code",
   "execution_count": 1,
   "metadata": {},
   "outputs": [
    {
     "name": "stdout",
     "output_type": "stream",
     "text": [
      "Private methods start with double__.\n",
      "Breed: Lab\n",
      "Species: Mammal\n"
     ]
    }
   ],
   "source": [
    "class Dog():\n",
    "    \n",
    "    # Class object attribute (static member)\n",
    "    species = 'Mammal'\n",
    "    \n",
    "    def __init__(self, breed: str) -> None:\n",
    "        self.breed = breed  # Attribute\n",
    "        self.__private_method()\n",
    "        \n",
    "    def set_breed(self, breed: str) -> None:  # Method\n",
    "        self.breed = breed\n",
    "        \n",
    "    def get_breed(self) -> str:\n",
    "        return self.breed\n",
    "    \n",
    "    def __private_method(self) -> None:\n",
    "        print('Private methods start with double__.')\n",
    "        \n",
    "        \n",
    "sam = Dog(breed=\"Lab\")\n",
    "\n",
    "print(f'Breed: {sam.breed}')\n",
    "print(f'Species: {Dog.species}')\n"
   ]
  },
  {
   "cell_type": "markdown",
   "metadata": {},
   "source": [
    "### Inheritance\n",
    "Add the class you want to inherit from in the parentheses."
   ]
  },
  {
   "cell_type": "code",
   "execution_count": 2,
   "metadata": {},
   "outputs": [
    {
     "name": "stdout",
     "output_type": "stream",
     "text": [
      "Dog born\n",
      "Woof!\n",
      "Animal eating\n",
      "Dog\n"
     ]
    }
   ],
   "source": [
    "class Animal():\n",
    "    def __init__(self) -> None:\n",
    "        print('Animal born')\n",
    "        \n",
    "    def who_am_I(self) -> None:\n",
    "        print('Animal')\n",
    "    \n",
    "    def eat(self) -> None:\n",
    "        print('Animal eating')\n",
    "        \n",
    "class Dog(Animal):\n",
    "    def __init__(self) -> None:\n",
    "        print('Dog born')\n",
    "        \n",
    "    def who_am_I(self) -> None:\n",
    "        print('Dog')\n",
    "        \n",
    "    def bark(self) -> None:\n",
    "        print('Woof!')\n",
    "        \n",
    "sam = Dog()\n",
    "sam.bark()\n",
    "sam.eat()\n",
    "sam.who_am_I()"
   ]
  },
  {
   "cell_type": "markdown",
   "metadata": {},
   "source": [
    "## Exceptions\n",
    "Exceptions are handled using `try...except...else...finally`.\n",
    "(Although we can skip the else if we don't want to use finally -- though there are some other reasons to use it.)"
   ]
  },
  {
   "cell_type": "code",
   "execution_count": 3,
   "metadata": {},
   "outputs": [
    {
     "name": "stdout",
     "output_type": "stream",
     "text": [
      "Error: Failed to write to file {}\n",
      "Finished excuting.\n"
     ]
    }
   ],
   "source": [
    "try:\n",
    "    my_file = open('Somefile.txt', 'r') # r will only give read-only permissions\n",
    "    my_file.write('New text')\n",
    "except IOError:\n",
    "    print('Error: Failed to write to file {}')\n",
    "else:\n",
    "    print('Opened and wrote to file')\n",
    "    my_file.close()\n",
    "finally:\n",
    "    print('Finished excuting.')"
   ]
  },
  {
   "cell_type": "markdown",
   "metadata": {},
   "source": [
    "## Modules vs. Packages\n",
    "\n",
    "Modules are essentially code packages that you can import. Note that a module may be just one file, but it may contain multple classes, functions, etc. And you can choose to import just one function, for example.\n",
    "\n",
    "Simple write your code in a file and save it as `filename.py`.\n",
    "\n",
    "Then, when you want to use it, use `import filename` (without the py).\n",
    "\n",
    "Packages are namespaces that contain multiple modules or other packages.\n",
    "\n",
    "Technically, they are directories with a file called __init.py__. This file can be empty, but it must exist in the folder.\n",
    "\n",
    "You can import packages, or modules from packages, like this:\n",
    "\n",
    "```python\n",
    "import package\n",
    "\n",
    "import package.module\n",
    "\n",
    "from package import module\n",
    "```"
   ]
  },
  {
   "cell_type": "code",
   "execution_count": 4,
   "metadata": {},
   "outputs": [
    {
     "data": {
      "text/plain": [
       "2.0"
      ]
     },
     "execution_count": 4,
     "metadata": {},
     "output_type": "execute_result"
    }
   ],
   "source": [
    "# Import just a function (best practice to stop the whole file being loaded)\n",
    "from math import sqrt\n",
    "\n",
    "sqrt(4)"
   ]
  },
  {
   "cell_type": "markdown",
   "metadata": {},
   "source": [
    "## Division/Exponents\n",
    "Division always returns a float.\n",
    "\n",
    "Exponents can be calculated by using `**`."
   ]
  },
  {
   "cell_type": "code",
   "execution_count": 7,
   "metadata": {},
   "outputs": [
    {
     "name": "stdout",
     "output_type": "stream",
     "text": [
      "1.5\n"
     ]
    }
   ],
   "source": [
    "print(3/2)"
   ]
  },
  {
   "cell_type": "code",
   "execution_count": 8,
   "metadata": {},
   "outputs": [
    {
     "name": "stdout",
     "output_type": "stream",
     "text": [
      "1\n"
     ]
    }
   ],
   "source": [
    "print(int(3/2))"
   ]
  },
  {
   "cell_type": "code",
   "execution_count": 16,
   "metadata": {},
   "outputs": [
    {
     "name": "stdout",
     "output_type": "stream",
     "text": [
      "2\n"
     ]
    }
   ],
   "source": [
    "print(20%3)"
   ]
  },
  {
   "cell_type": "code",
   "execution_count": 10,
   "metadata": {},
   "outputs": [
    {
     "name": "stdout",
     "output_type": "stream",
     "text": [
      "8\n"
     ]
    }
   ],
   "source": [
    "print(2**3)"
   ]
  },
  {
   "cell_type": "markdown",
   "metadata": {},
   "source": [
    "## Checking for empty/not assigned\n",
    "You can use `if...` to check for existance of an empty string, unassigned var, or empty data structure.\n",
    "\n",
    "Note that an empty data structure is not None. None is null."
   ]
  },
  {
   "cell_type": "code",
   "execution_count": 24,
   "metadata": {},
   "outputs": [
    {
     "name": "stdout",
     "output_type": "stream",
     "text": [
      "l is None\n",
      "d is None\n",
      "str1 is None\n",
      "str2 is None\n",
      "str2 exists\n",
      "str2 is None\n",
      "False\n"
     ]
    }
   ],
   "source": [
    "l = []\n",
    "d = {}\n",
    "str1 = None\n",
    "str2 = ''\n",
    "\n",
    "if l:\n",
    "    print('l exists')\n",
    "else:\n",
    "    print('l is None')\n",
    "    \n",
    "if d:\n",
    "    print('d exists')\n",
    "else:\n",
    "    print('d is None')\n",
    "    \n",
    "if str1:\n",
    "    print('str1 exists')\n",
    "else:\n",
    "    print('str1 is None')\n",
    "    \n",
    "if str2:\n",
    "    print('str2 exists')\n",
    "else:\n",
    "    print('str2 is None')\n",
    "    \n",
    "print(l == None)"
   ]
  },
  {
   "cell_type": "markdown",
   "metadata": {},
   "source": [
    "## is vs. ==\n",
    "\n",
    "`==` is used to check value equality of 2 objects, `is` is used to check if they refer to the same object in memory."
   ]
  },
  {
   "cell_type": "code",
   "execution_count": 27,
   "metadata": {},
   "outputs": [
    {
     "name": "stdout",
     "output_type": "stream",
     "text": [
      "d1 == d2\n",
      "d1 is not d2\n"
     ]
    }
   ],
   "source": [
    "d1 = ['a']\n",
    "d2 = ['a']\n",
    "\n",
    "if d1 == d2:\n",
    "    print('d1 == d2')\n",
    "else:\n",
    "    print('d1 != d2')\n",
    "    \n",
    "if d1 is d2:\n",
    "    print('d1 is d2')\n",
    "else:\n",
    "    print('d1 is not d2')"
   ]
  },
  {
   "cell_type": "markdown",
   "metadata": {},
   "source": [
    "## Conditionals\n",
    "\n",
    "Use `if...elif...else`."
   ]
  },
  {
   "cell_type": "code",
   "execution_count": 30,
   "metadata": {},
   "outputs": [
    {
     "name": "stdout",
     "output_type": "stream",
     "text": [
      "x is 2\n"
     ]
    }
   ],
   "source": [
    "x = 2\n",
    "\n",
    "if x == 1:\n",
    "    print('x is 1')\n",
    "elif x == 2:\n",
    "    print('x is 2')\n",
    "else:\n",
    "    print('x is bigger than 2')"
   ]
  },
  {
   "cell_type": "code",
   "execution_count": 31,
   "metadata": {},
   "outputs": [
    {
     "data": {
      "text/plain": [
       "1.5"
      ]
     },
     "execution_count": 31,
     "metadata": {},
     "output_type": "execute_result"
    }
   ],
   "source": [
    "3/2"
   ]
  },
  {
   "cell_type": "markdown",
   "metadata": {},
   "source": [
    "## List/Set/Dictionary/Tuple\n",
    "```python\n",
    "list = []\n",
    "set = set()\n",
    "tuple = (val1, val2)\n",
    "dictionary = {}\n",
    "od = OrderedDict()\n",
    "```"
   ]
  },
  {
   "cell_type": "code",
   "execution_count": 39,
   "metadata": {},
   "outputs": [
    {
     "name": "stdout",
     "output_type": "stream",
     "text": [
      "l is a <class 'list'>\n",
      "s is a <class 'set'>\n",
      "t is a <class 'tuple'>\n",
      "d is a <class 'dict'>\n",
      "od is a <class 'collections.OrderedDict'>\n"
     ]
    }
   ],
   "source": [
    "from collections import OrderedDict\n",
    "\n",
    "l = []\n",
    "s = set()\n",
    "t = ('a','b')\n",
    "d = {}\n",
    "od = OrderedDict()\n",
    "\n",
    "print(f'l is a {type(l)}')\n",
    "print(f's is a {type(s)}')\n",
    "print(f't is a {type(t)}')\n",
    "print(f'd is a {type(d)}')\n",
    "print(f'od is a {type(od)}')"
   ]
  },
  {
   "cell_type": "markdown",
   "metadata": {},
   "source": [
    "## Custom Comparators\n",
    "\n",
    "The quick way of sorting is to pass in `key= obj: obj.property` to the lambda function when sorting."
   ]
  },
  {
   "cell_type": "code",
   "execution_count": 40,
   "metadata": {},
   "outputs": [
    {
     "data": {
      "text/plain": [
       "[('jane', 'B', 10), ('dave', 'B', 12), ('john', 'A', 15)]"
      ]
     },
     "execution_count": 40,
     "metadata": {},
     "output_type": "execute_result"
    }
   ],
   "source": [
    "class Student:\n",
    "    def __init__(self, name, grade, age):\n",
    "        self.name = name\n",
    "        self.grade = grade\n",
    "        self.age = age\n",
    "\n",
    "    def __repr__(self):\n",
    "        return repr((self.name, self.grade, self.age))\n",
    "\n",
    "student_objects = [\n",
    "    Student('john', 'A', 15),\n",
    "    Student('jane', 'B', 10),\n",
    "    Student('dave', 'B', 12),\n",
    "]\n",
    "\n",
    "# Pass in object parameter to sort by\n",
    "sorted(student_objects, key=lambda student: student.age) "
   ]
  },
  {
   "cell_type": "markdown",
   "metadata": {},
   "source": [
    "Though, less common, we can also override the `__lt__` function in the class itself."
   ]
  },
  {
   "cell_type": "code",
   "execution_count": 41,
   "metadata": {},
   "outputs": [
    {
     "data": {
      "text/plain": [
       "[('jane', 'B', 10), ('dave', 'B', 12), ('john', 'A', 15)]"
      ]
     },
     "execution_count": 41,
     "metadata": {},
     "output_type": "execute_result"
    }
   ],
   "source": [
    "class Student:\n",
    "    def __init__(self, name, grade, age):\n",
    "        self.name = name\n",
    "        self.grade = grade\n",
    "        self.age = age\n",
    "\n",
    "    def __repr__(self):\n",
    "        return repr((self.name, self.grade, self.age))\n",
    "    \n",
    "    def __lt__(self, other):\n",
    "        # Could add other more complex if...elif...else logic here\n",
    "        return self.age < other.age\n",
    "\n",
    "student_objects = [\n",
    "    Student('john', 'A', 15),\n",
    "    Student('jane', 'B', 10),\n",
    "    Student('dave', 'B', 12),\n",
    "]\n",
    "\n",
    "sorted(student_objects) "
   ]
  },
  {
   "cell_type": "markdown",
   "metadata": {},
   "source": [
    "When checking for existance in a set, equivalence, etc., you can override `__eq__` and `__hash__`."
   ]
  },
  {
   "cell_type": "code",
   "execution_count": 48,
   "metadata": {},
   "outputs": [
    {
     "name": "stdout",
     "output_type": "stream",
     "text": [
      "list is: [('john', 'A1', 15), ('jane', 'B1', 12), ('jane', 'B1', 12)]\n",
      "set is: {('jane', 'B1', 12), ('john', 'A1', 15)}\n",
      "Student 1 and student 2 are equal.\n"
     ]
    }
   ],
   "source": [
    "class Student:\n",
    "    def __init__(self, name, id_num, age):\n",
    "        self.name = name\n",
    "        self.id_num = id_num\n",
    "        self.age = age\n",
    "\n",
    "    def __repr__(self):\n",
    "        return repr((self.name, self.id_num, self.age))\n",
    "    \n",
    "    def __eq__(self, other):\n",
    "        return self.id_num == other.id_num\n",
    "    \n",
    "    def __hash__(self):\n",
    "        return hash(self.id_num)\n",
    "\n",
    "student_objects = [\n",
    "    Student('john', 'A1', 15),\n",
    "    Student('jane', 'B1', 12),\n",
    "    Student('jane', 'B1', 12),\n",
    "]\n",
    "\n",
    "print(f'List is: {student_objects}')\n",
    "\n",
    "student_set = set(student_objects)\n",
    "\n",
    "print(f'Set is: {student_set}')\n",
    "\n",
    "if student_objects[1] == student_objects[2]:\n",
    "    print('Student 1 and student 2 are equal.')"
   ]
  },
  {
   "cell_type": "markdown",
   "metadata": {},
   "source": [
    "# Iteration\n",
    "\n",
    "Just use:\n",
    "\n",
    "`for item in items: ...`.\n",
    "\n",
    "If you want to get an index, you can use:\n",
    "\n",
    "`for i, item in enumerate(items): ...`.\n",
    "\n",
    "For iterating around a dictionary, you can use:\n",
    "\n",
    "`for key, val in d.items(): ...`.\n",
    "\n",
    "(If you forget items() it will give you the keys be default.)"
   ]
  },
  {
   "cell_type": "code",
   "execution_count": 40,
   "metadata": {},
   "outputs": [
    {
     "name": "stdout",
     "output_type": "stream",
     "text": [
      "0: a\n",
      "1: b\n",
      "2: c\n",
      "a: 1\n",
      "b: 2\n",
      "c: 3\n",
      "1\n",
      "3\n",
      "5\n",
      "7\n",
      "9\n",
      "10\n",
      "9\n",
      "8\n",
      "7\n",
      "6\n",
      "5\n",
      "4\n",
      "3\n",
      "2\n",
      "1\n"
     ]
    }
   ],
   "source": [
    "# Iterate list\n",
    "letters = ['a', 'b', 'c']\n",
    "\n",
    "for i, letter in enumerate(letters):\n",
    "    print(f'{i}: {letter}')\n",
    "    \n",
    "# Iterate dictionary\n",
    "d = {'a': 1, 'b': 2, 'c': 3}\n",
    "\n",
    "for key, val in d.items():\n",
    "    print(f'{key}: {val}')    \n",
    "    \n",
    "    \n",
    "# Iterate every two items\n",
    "nums = [1, 2, 3, 4, 5, 6, 7, 8, 9, 10]\n",
    "    \n",
    "for num in nums[::2]:\n",
    "    print(num)\n",
    "    \n",
    "# Iterate backwards\n",
    "for num in nums[::-1]:\n",
    "    print(num)\n"
   ]
  },
  {
   "cell_type": "markdown",
   "metadata": {},
   "source": [
    "## Lists\n",
    "\n",
    "```python\n",
    "l = [\"a\", \"b\", \"c\"]\n",
    "l.append(\"d\")        # Append item O(1)\n",
    "l.extend([\"e\", \"f\"]) # Extend with another list O(k)\n",
    "l.remove(\"a\")        # Remove by value (ValueError if not found) O(n)\n",
    "l.pop(1)             # del at index O(n)\n",
    "```"
   ]
  },
  {
   "cell_type": "code",
   "execution_count": 24,
   "metadata": {},
   "outputs": [
    {
     "name": "stdout",
     "output_type": "stream",
     "text": [
      "['apple', 'orange', 'banana']\n",
      "['apple', 'banana', 'orange']\n",
      "['apple', 'banana', 'orange']\n",
      "['apple', 'banana', 'orange', 'grape']\n",
      "grape\n",
      "['orange', 'banana', 'apple']\n",
      "[[0, 1, 0], [1, 1, 1], [0, 0, 1]]\n",
      "1\n",
      "['orange', 'banana']\n",
      "banana\n",
      "['pear', 'orange', 'banana', 'apple']\n",
      "['orange', 'banana', 'apple']\n",
      "['orange', 'banana', 'apple', 'a', 'a']\n",
      "['orange', 'banana', 'apple', 'a']\n",
      "1\n",
      "['orange', 'banana', 'apple', 'a', 'b', 'c']\n"
     ]
    },
    {
     "data": {
      "text/plain": [
       "'apple'"
      ]
     },
     "execution_count": 24,
     "metadata": {},
     "output_type": "execute_result"
    }
   ],
   "source": [
    "l = ['apple', 'orange', 'banana']\n",
    "print(l)\n",
    "\n",
    "# Sorted copy\n",
    "sorted_l = sorted(l)\n",
    "print(sorted_l)\n",
    "\n",
    "# Sort in place\n",
    "l.sort()\n",
    "print(l)\n",
    "\n",
    "# Append something\n",
    "l.append(\"grape\")\n",
    "print(l)\n",
    "\n",
    "# Remove and return last item (can pass in index)\n",
    "print(l.pop())\n",
    "\n",
    "# Reverse the list\n",
    "l.reverse()\n",
    "print(l)\n",
    "\n",
    "# Create 2D Array\n",
    "matrix = [\n",
    "    [0, 1, 0],\n",
    "    [1, 1, 1],\n",
    "    [0, 0, 1]\n",
    "]\n",
    "\n",
    "print(matrix)\n",
    "print(matrix[1][0])\n",
    "\n",
    "# Take slice\n",
    "print(l[:2])\n",
    "\n",
    "# Get element\n",
    "print(l[1])\n",
    "\n",
    "# Insert in position\n",
    "l.insert(0, 'pear')\n",
    "print(l)\n",
    "\n",
    "# Delete value (just removes first)\n",
    "# Throws ValueError if not found.\n",
    "l.append('a')\n",
    "l.append('a')\n",
    "print(l)\n",
    "\n",
    "l.remove('a')\n",
    "print(l)\n",
    "\n",
    "# Count number of element\n",
    "print(l.count('a'))\n",
    "\n",
    "# Join two lists\n",
    "l.extend(['b', 'c'])\n",
    "print(l)\n",
    "\n"
   ]
  },
  {
   "cell_type": "markdown",
   "metadata": {},
   "source": [
    "## Sorting\n",
    "Sorting uses `Timsort`:\n",
    "\n",
    "* Stable\n",
    "* Based on Merge Sort, but sorts based on \"runs\" of sorted data\n",
    "* O(n log n) time\n",
    "* O(n) space\n",
    "\n",
    "```python\n",
    "l.sort()                                # Sorts in place\n",
    "sorted(l)                               # Returns a sorted copy\n",
    "l.sort(reverse=True)                    # Sorts reverse\n",
    "l.sort(key=lambda student: student.age) # Sort based on custom field\n",
    "```"
   ]
  },
  {
   "cell_type": "code",
   "execution_count": 31,
   "metadata": {},
   "outputs": [
    {
     "name": "stdout",
     "output_type": "stream",
     "text": [
      "['a', 'c', 'b']\n",
      "['a', 'b', 'c']\n",
      "['a', 'b', 'c']\n",
      "['c', 'b', 'a']\n",
      "[('jae', 'B1', 11), ('jane', 'B1', 12), ('john', 'A1', 15)]\n"
     ]
    }
   ],
   "source": [
    "l = [\"a\", \"c\", \"b\"]\n",
    "print(l)\n",
    "\n",
    "# Sorted copy\n",
    "sorted_copy = sorted(l)\n",
    "print(sorted_copy)\n",
    "\n",
    "# Sort in place\n",
    "l.sort()\n",
    "print(l)\n",
    "\n",
    "# Sort reverse\n",
    "l.sort(reverse=True)\n",
    "print(l)\n",
    "\n",
    "# Custom sort\n",
    "class Student:\n",
    "    def __init__(self, name, id_num, age):\n",
    "        self.name = name\n",
    "        self.id_num = id_num\n",
    "        self.age = age\n",
    "\n",
    "    def __repr__(self):\n",
    "        return repr((self.name, self.id_num, self.age))\n",
    "    \n",
    "    def __eq__(self, other):\n",
    "        return self.id_num == other.id_num\n",
    "    \n",
    "    def __hash__(self):\n",
    "        return hash(self.id_num)\n",
    "\n",
    "students = [\n",
    "    Student('john', 'A1', 15),\n",
    "    Student('jane', 'B1', 12),\n",
    "    Student('jae', 'B1', 11),\n",
    "]\n",
    "\n",
    "students.sort(key=lambda student: student.age)\n",
    "\n",
    "print(students)"
   ]
  },
  {
   "cell_type": "markdown",
   "metadata": {},
   "source": [
    "## Dictionaries\n",
    "\n",
    "Dictionaries are implemented as hashmaps with open address.\n",
    "\n",
    "```python\n",
    "d = {\"a\": 1, \"b\": 2, \"c\": 3}\n",
    "d[\"d\"] = 4      # Set key/val, O(n) worst, O(1) average\n",
    "v = d[\"d\"]      # Get val, O(n) worst, O(1) average, KeyError if not found\n",
    "d.get(\"d\", \"\")  # Safe get -- alternatively use defaultdict\n",
    "del d[\"d\"]      # Delete val, O(n) worst, O(1) average\n",
    "if \"d\" in d:    # Check if val exists, O(n) worst, O(1) average\n",
    "```"
   ]
  },
  {
   "cell_type": "code",
   "execution_count": 57,
   "metadata": {},
   "outputs": [
    {
     "name": "stdout",
     "output_type": "stream",
     "text": [
      "{'a': 1, 'b': 2, 'c': 3}\n",
      "{'a': 1, 'b': 2, 'c': 3, 'd': 4}\n",
      "4\n",
      "4\n",
      "d not in dict\n",
      "(Missing)\n"
     ]
    }
   ],
   "source": [
    "d = {\"a\": 1, \"b\": 2, \"c\": 3}\n",
    "print(d)\n",
    "\n",
    "# Set key/val, O(n) worst, O(1) average\n",
    "d[\"d\"] = 4 \n",
    "print(d)\n",
    "\n",
    "# Get val, O(n) worst, O(1) average, KeyError if not found\n",
    "print(d[\"d\"])\n",
    "\n",
    "# Safe get -- alternatively use defaultdict\n",
    "print(d.get(\"d\", \"\"))\n",
    "\n",
    "# Delete val, O(n) worst, O(1) average\n",
    "del d[\"d\"]\n",
    "\n",
    "# Check if val exists, O(n) worst, O(1) average\n",
    "if \"d\" in d:\n",
    "    print(d[\"d\"])\n",
    "else:\n",
    "    print(\"d not in dict\")\n",
    "    \n",
    "# Use default dict to avoid checks\n",
    "from collections import defaultdict\n",
    "\n",
    "dd = defaultdict(lambda:\"(Missing)\")\n",
    "\n",
    "dd[\"a\"] =  1\n",
    "dd[\"b\"] =  2\n",
    "\n",
    "print(dd[\"d\"])"
   ]
  },
  {
   "cell_type": "markdown",
   "metadata": {},
   "source": [
    "## Sets\n",
    "\n",
    "Sets are implemented as hashmaps with open address. Basically a dictionary with dummy values.\n",
    "\n",
    "```python\n",
    "s = set()\n",
    "s.add(1)           # Add val, O(n) worst, O(1) average\n",
    "s.remove(1)        # Remove val, O(n) worst, O(1) average\n",
    "if 1 in s:...      # Check if val exists, O(n) worst, O(1) average\n",
    "s&t                # Intersection O(len(s) * len(t)) worst case (check every item in s exist in t, worst is len of set if hash colission)\n",
    "s-t                # Difference O(len(s) * len(t)) (check for every item in s if it exists in t)\n",
    "s^t                # Symmetric Difference\n",
    "```"
   ]
  },
  {
   "cell_type": "code",
   "execution_count": 7,
   "metadata": {},
   "outputs": [
    {
     "name": "stdout",
     "output_type": "stream",
     "text": [
      "{1, 2, 3}\n",
      "{2, 3}\n",
      "2 is in s\n",
      "{3}\n",
      "{2}\n",
      "{2, 4}\n"
     ]
    }
   ],
   "source": [
    "# Declare and add items\n",
    "s = set()\n",
    "s.add(1)\n",
    "s.add(2)\n",
    "s.add(3)\n",
    "\n",
    "print(s)\n",
    "\n",
    "# Remove an item\n",
    "s.remove(1)\n",
    "\n",
    "print(s)\n",
    "\n",
    "# Check if item is in s\n",
    "if 2 in s:\n",
    "    print(\"2 is in s\")\n",
    "    \n",
    "# Get interaction\n",
    "t = set()\n",
    "t.add(3)\n",
    "t.add(4)\n",
    "\n",
    "intersect = s&t\n",
    "\n",
    "print(intersect)\n",
    "\n",
    "# Get difference (s not in t, not symmetric difference)\n",
    "difference = s-t\n",
    "print(difference)\n",
    "\n",
    "# Get symmetric difference (only in s or only in t)\n",
    "sym_diff = s^t\n",
    "print(sym_diff)"
   ]
  },
  {
   "cell_type": "markdown",
   "metadata": {},
   "source": [
    "## Tuples\n",
    "\n",
    "Declare with `(..., ...)`, and call using index `[0]`."
   ]
  },
  {
   "cell_type": "code",
   "execution_count": 8,
   "metadata": {},
   "outputs": [
    {
     "name": "stdout",
     "output_type": "stream",
     "text": [
      "oranges\n"
     ]
    }
   ],
   "source": [
    "my_tuple = (\"apples\", \"oranges\", \"pears\")\n",
    "\n",
    "print(my_tuple[1])"
   ]
  },
  {
   "cell_type": "markdown",
   "metadata": {},
   "source": [
    "## Strings\n",
    "\n",
    "Note there is no StringBuilder. You can use a list and then `\"\".join...`.\n",
    "\n",
    "```python\n",
    "s = \"hello\"\n",
    "s[0]                   # Access element\n",
    "chr_list = list(s)     # Turns into list of chars\n",
    "s = \"\".join(chr_list)  # Turns list of chars back into string\n",
    "us = s.upper()        \n",
    "ls = l.lower()\n",
    "split_s = s.split(\",\") # Splits string\n",
    "```"
   ]
  },
  {
   "cell_type": "code",
   "execution_count": 25,
   "metadata": {},
   "outputs": [
    {
     "name": "stdout",
     "output_type": "stream",
     "text": [
      "hello\n",
      "0: h\n",
      "1: e\n",
      "2: l\n",
      "3: l\n",
      "4: o\n",
      "h\n",
      "['h', 'e', 'l', 'l', 'o']\n",
      "hello\n",
      "HELLO\n",
      "hello\n",
      "['This', 'is', 'a', 'string']\n",
      "['some', 'data']\n"
     ]
    }
   ],
   "source": [
    "s = \"hello\"\n",
    "\n",
    "print(s)\n",
    "\n",
    "# Iterate around characters\n",
    "for i, c in enumerate(s):\n",
    "    print(f'{i}: {c}')\n",
    "    \n",
    "# Get character at index\n",
    "print(s[0])\n",
    "\n",
    "# Turns to list of chars\n",
    "chrs = list(s)\n",
    "print(chrs)\n",
    "\n",
    "# Turns list of chars back into str\n",
    "s2 = \"\".join(chrs)\n",
    "print(s2)\n",
    "\n",
    "# Convert to upper/lower\n",
    "us = s.upper()\n",
    "ls = s.lower()\n",
    "print(us)\n",
    "print(ls)\n",
    "\n",
    "# Split\n",
    "s3 = \"This is a string\"\n",
    "l = s3.split()\n",
    "print(l)\n",
    "\n",
    "csv = \"some,data\"\n",
    "l2 = csv.split(\",\")\n",
    "print(l2)"
   ]
  },
  {
   "cell_type": "markdown",
   "metadata": {},
   "source": [
    "## Iterators\n",
    "\n",
    "Override the `__iter__` and `__next__` methods.\n",
    "`__iter__`  returns `self` and `__next__` returns a value or raises `StopIteration` if there are no more values.\n",
    "\n",
    "```python\n",
    "    def __iter__(self):\n",
    "        self.current = self._head\n",
    "        return self\n",
    "\n",
    "    def __next__(self):\n",
    "        if not self.current:\n",
    "            raise StopIteration\n",
    "        val = self.current.val\n",
    "        self.current = self.current.next\n",
    "        return val\n",
    " ```"
   ]
  },
  {
   "cell_type": "markdown",
   "metadata": {},
   "source": [
    "## Converting to ASCII\n",
    "\n",
    "To convert a char to ASCII, use `ord('c')`.\n",
    "\n",
    "To convert an ASCII value to a char, use `chr(int)`."
   ]
  },
  {
   "cell_type": "code",
   "execution_count": 1,
   "metadata": {},
   "outputs": [
    {
     "name": "stdout",
     "output_type": "stream",
     "text": [
      "65\n",
      "97\n",
      "A\n",
      "a\n"
     ]
    }
   ],
   "source": [
    "print(ord('A'))\n",
    "print(ord('a'))\n",
    "\n",
    "print(chr(65))\n",
    "print(chr(97))"
   ]
  },
  {
   "cell_type": "markdown",
   "metadata": {},
   "source": [
    "## Advanced Data Structures"
   ]
  },
  {
   "cell_type": "markdown",
   "metadata": {},
   "source": [
    "### Deque\n",
    "(Double Ended Queue)\n",
    "\n",
    "By default the deque will append to the right, and you can add `left` to most method names to append to the left instead."
   ]
  },
  {
   "cell_type": "code",
   "execution_count": 9,
   "metadata": {},
   "outputs": [
    {
     "name": "stdout",
     "output_type": "stream",
     "text": [
      "deque([1, 2, 3])\n",
      "deque([0, 1, 2, 3])\n",
      "deque([0, 1, 2])\n",
      "deque([1, 2])\n",
      "deque([-1, 0, 1, 2])\n"
     ]
    }
   ],
   "source": [
    "from collections import deque\n",
    "\n",
    "d = deque()\n",
    "\n",
    "# Appends to the right by default\n",
    "d.append(1)\n",
    "d.append(2)\n",
    "d.append(3)\n",
    "print(d)\n",
    "\n",
    "# Append to the left\n",
    "d.appendleft(0)\n",
    "print(d)\n",
    "\n",
    "# Pops from the right by default\n",
    "d.pop()\n",
    "print(d)\n",
    "\n",
    "# Pops from the left\n",
    "d.popleft()\n",
    "print(d)\n",
    "\n",
    "# Can also use extend instead of append\n",
    "d.extendleft([0, -1])\n",
    "print(d)"
   ]
  },
  {
   "cell_type": "markdown",
   "metadata": {},
   "source": [
    "## HeapQ\n",
    "\n",
    "Python implementation of the BinaryHeap/Priority Queue. Note that Python implementation is a __min heap__.\n",
    "\n",
    "It is possible to push tuples onto the heap, which is useful for sorting tasks, etc."
   ]
  },
  {
   "cell_type": "code",
   "execution_count": 15,
   "metadata": {},
   "outputs": [
    {
     "name": "stdout",
     "output_type": "stream",
     "text": [
      "[(1, 'Task 1'), (3, 'Task 3'), (2, 'Task 2'), (4, 'Task 4'), (5, 'Task 5')]\n",
      "(0, 'Task 0')\n"
     ]
    }
   ],
   "source": [
    "import heapq\n",
    "\n",
    "# Initialize a list\n",
    "tasks = [\n",
    "    (5, \"Task 5\"),\n",
    "    (3, \"Task 3\"),\n",
    "    (2, \"Task 2\"),\n",
    "    (4, \"Task 4\"),\n",
    "    (1, \"Task 1\")\n",
    "]\n",
    "\n",
    "# Heapify turns the list into a heap: O(n)\n",
    "heapq.heapify(tasks)\n",
    "print(tasks)\n",
    "\n",
    "# Heappush adds an item to the heap: log(n)\n",
    "heapq.heappush(tasks, (0, \"Task 0\"))\n",
    "\n",
    "# Heappop gets the min item: log(n)\n",
    "print(heapq.heappop(tasks))\n",
    "\n"
   ]
  },
  {
   "cell_type": "markdown",
   "metadata": {},
   "source": [
    "## Queues\n",
    "\n",
    "Thread-safe queue implementations.\n",
    "\n",
    "There is: `Queue` (FIFO), `LifoQueue` (LIFO), and `PriorityQueue` (Same as heapq, except thread-safe).\n",
    "\n",
    "`LifoQueue` can also serve as a stack."
   ]
  },
  {
   "cell_type": "code",
   "execution_count": 21,
   "metadata": {},
   "outputs": [
    {
     "name": "stdout",
     "output_type": "stream",
     "text": [
      "1\n",
      "2\n",
      "3\n",
      "3\n",
      "2\n",
      "1\n"
     ]
    }
   ],
   "source": [
    "import queue\n",
    "\n",
    "# Queue: a fifo queue: use put(val) and get()\n",
    "fifo_queue = queue.Queue()\n",
    "\n",
    "fifo_queue.put(1)\n",
    "fifo_queue.put(2)\n",
    "fifo_queue.put(3)\n",
    "\n",
    "while not fifo_queue.empty():\n",
    "    print(fifo_queue.get())\n",
    "\n",
    "# Lifo queue: Use put(val) and get()\n",
    "lifo_queue = queue.LifoQueue()\n",
    "\n",
    "lifo_queue.put(1)\n",
    "lifo_queue.put(2)\n",
    "lifo_queue.put(3)\n",
    "\n",
    "while not lifo_queue.empty():\n",
    "    print(lifo_queue.get())"
   ]
  },
  {
   "cell_type": "markdown",
   "metadata": {},
   "source": [
    "# Mac Text Editing\n",
    "\n",
    "\n",
    "| Action                    |      Command      |\n",
    "|----------                 |-------------      |\n",
    "| Forward delete            | <kbd>fn</kbd>+<kbd>backspace</kbd> |\n",
    "| Move to beginning of line | <kbd>command</kbd>+<kbd>&larr;</kbd>  |\n",
    "| Move to end of line       | <kbd>command</kbd>+<kbd>&rarr;</kbd> |\n",
    "| Move forward a word       | <kbd>option</kbd>+<kbd>&rarr;</kbd>  |\n",
    "| Move backword a word      | <kbd>option</kbd>+<kbd>&larr;</kbd> |\n",
    "| Delete word in front      | <kbd>fn</kbd>+<kbd>option</kbd>+<kbd>backspace</kbd> |\n",
    "| Delete word behind        | <kbd>option</kbd>+<kbd>backspace</kbd> |\n",
    "| Delete line from cursor    | <kbd>ctrl</kbd>+<kbd>k</kbd> |\n",
    "| Delete line behind cusor  | <kbd>shift</kbd>+<kbd>cmd</kbd>+<kbd>backspace</kbd> |\n",
    "\n"
   ]
  },
  {
   "cell_type": "markdown",
   "metadata": {},
   "source": [
    "# 2D Arrays Revisited\n",
    "\n",
    "Beware: creating a 2d array like `[[0]*cols]*rows` can lead to problems, as the lists are __shallow copied__, leading to values being set for every row. The __correct__ way to initialize a 2D array is as follows."
   ]
  },
  {
   "cell_type": "code",
   "execution_count": 7,
   "metadata": {},
   "outputs": [
    {
     "name": "stdout",
     "output_type": "stream",
     "text": [
      "[[0, 9, 0], [0, 0, 3]]\n"
     ]
    }
   ],
   "source": [
    "cols = 3\n",
    "rows = 2\n",
    "matrix = [[0]*cols for i in range(rows)]\n",
    "\n",
    "matrix[0][1] = 9\n",
    "matrix[1][2] = 3\n",
    "\n",
    "print(matrix)"
   ]
  },
  {
   "cell_type": "markdown",
   "metadata": {},
   "source": [
    "# Useful Tips"
   ]
  },
  {
   "cell_type": "code",
   "execution_count": 8,
   "metadata": {},
   "outputs": [
    {
     "name": "stdout",
     "output_type": "stream",
     "text": [
      "Counter({1: 2, 2: 2, 3: 1})\n",
      "1: 2\n",
      "2: 2\n",
      "3: 1\n"
     ]
    }
   ],
   "source": [
    "# Get a dictionary with counts of items\n",
    "from collections import Counter\n",
    "\n",
    "counts = Counter([1, 2, 1, 2, 3])\n",
    "print(counts)\n",
    "\n",
    "for number, count in counts.items():\n",
    "    print(f'{number}: {count}')\n"
   ]
  },
  {
   "cell_type": "code",
   "execution_count": 11,
   "metadata": {},
   "outputs": [
    {
     "data": {
      "text/plain": [
       "[4, 5]"
      ]
     },
     "execution_count": 11,
     "metadata": {},
     "output_type": "execute_result"
    }
   ],
   "source": [
    "# Get the last k items in a list\n",
    "nums = [1, 2, 3, 4, 5]\n",
    "nums[-2:]"
   ]
  },
  {
   "cell_type": "code",
   "execution_count": 13,
   "metadata": {},
   "outputs": [
    {
     "name": "stdout",
     "output_type": "stream",
     "text": [
      "[1, 2, 3, 4, 5, 6, 7]\n"
     ]
    }
   ],
   "source": [
    "# Flatten a list of lists (will ignore empty lists)\n",
    "list_of_lists = [[1, 2], [3, 4], [], [5, 6, 7]]\n",
    "flat_list = [item for sublist in list_of_lists for item in sublist]\n",
    "print(flat_list)\n"
   ]
  },
  {
   "cell_type": "code",
   "execution_count": null,
   "metadata": {},
   "outputs": [],
   "source": []
  }
 ],
 "metadata": {
  "kernelspec": {
   "display_name": "Python 3",
   "language": "python",
   "name": "python3"
  },
  "language_info": {
   "codemirror_mode": {
    "name": "ipython",
    "version": 3
   },
   "file_extension": ".py",
   "mimetype": "text/x-python",
   "name": "python",
   "nbconvert_exporter": "python",
   "pygments_lexer": "ipython3",
   "version": "3.8.5"
  }
 },
 "nbformat": 4,
 "nbformat_minor": 4
}
