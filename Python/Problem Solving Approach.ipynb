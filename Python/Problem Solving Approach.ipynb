{
 "cells": [
  {
   "cell_type": "markdown",
   "metadata": {},
   "source": [
    "# Problem Solving Approaches"
   ]
  },
  {
   "cell_type": "markdown",
   "metadata": {},
   "source": [
    "## Greedy Algorithms\n",
    "\n",
    "A greedy algorithm is an algorithm that works by selecting the best choice at each step.\n",
    "\n",
    "An algorithm can be solved with a greedy algorithm if it has the following properties.\n",
    "\n",
    "__Greedy Choice Property__\n",
    "\n",
    "An optimal solution can be found by choosing the best choice at each step without reconsidering the previous steps.\n",
    "\n",
    "__Optimal Substructure Property__\n",
    "\n",
    "The optimal solution to the problem is also the optimal solution to all of the subproblems.\n",
    "\n",
    "### Greedy Approach\n",
    "\n",
    "1. The solution step starts as empty\n",
    "2. At each step, an answer is added until the solution is complete\n",
    "3. If the solution set is feasible, the current item is kept\n",
    "4. Otherwise, the item is rejected and never looked at again.\n",
    "\n",
    "### Example Greedy Problem\n",
    "\n",
    "```\n",
    "Q. Make $18 using $1, $5, and $10\n",
    "A. We can take the biggest at each step\n",
    "```\n",
    "\n",
    "### Example Non-Greedy Problem\n",
    "Greedy algorithms will not always given the best approach.\n",
    "\n",
    "For example: Find the max path in a graph will not work, since certain weights at different paths may be larger than the max weight at each step."
   ]
  },
  {
   "cell_type": "markdown",
   "metadata": {},
   "source": [
    "## Dynamic Algorithms\n",
    "\n",
    "Dynamic programming problems cache (memoization) the result of subproblems to find the optimal result.\n",
    "\n",
    "Dynamic programming is similar to greedy algorithms, but greedy algorithms look for a locally optimum solutions, while dynamic programming combines the results of subprograms to find the optimum solution.\n",
    "\n",
    "We can tell if a program can be solved by dynamic programming if it satisfies the following properties.\n",
    "\n",
    "__Optimal Substructure__\n",
    "\n",
    "The optimal solution can be found by using the optimal solution of the subproblems.\n",
    "\n",
    "For example, the shortest path would have optimal substructure, but the longest path would not.\n",
    "\n",
    "The knapsack problem has an optimal substructure since the max value for items[i-1] gives the max value without item[i].\n",
    "\n",
    "__Overlapping Subproblems__\n",
    "\n",
    "To find an answer to a problem i, we have to use solutions that were computed when finding i-1. For example, when computing fib(9), we need to use answers we found when computing fib(8).\n",
    "\n",
    "We can cache these answers using memoization."
   ]
  },
  {
   "cell_type": "code",
   "execution_count": null,
   "metadata": {},
   "outputs": [],
   "source": []
  }
 ],
 "metadata": {
  "kernelspec": {
   "display_name": "Python 3",
   "language": "python",
   "name": "python3"
  },
  "language_info": {
   "codemirror_mode": {
    "name": "ipython",
    "version": 3
   },
   "file_extension": ".py",
   "mimetype": "text/x-python",
   "name": "python",
   "nbconvert_exporter": "python",
   "pygments_lexer": "ipython3",
   "version": "3.8.5"
  }
 },
 "nbformat": 4,
 "nbformat_minor": 4
}
